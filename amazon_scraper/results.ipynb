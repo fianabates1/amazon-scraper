{
 "cells": [
  {
   "cell_type": "markdown",
   "metadata": {},
   "source": []
  },
  {
   "cell_type": "code",
   "execution_count": 1,
   "metadata": {},
   "outputs": [],
   "source": [
    "import pandas as pd\n",
    "results=pd.read_csv('reviews.csv')"
   ]
  },
  {
   "cell_type": "code",
   "execution_count": 169,
   "metadata": {},
   "outputs": [],
   "source": [
    "searchfor=['different','same','previous','purchased','past','run','size','dissapointed','small','largeg','quality','fit','unhappy','change']"
   ]
  },
  {
   "cell_type": "code",
   "execution_count": 2,
   "metadata": {},
   "outputs": [],
   "source": [
    "df = results.drop_duplicates(subset=['Review'])\n",
    "df=df.astype(str).apply(lambda x: x.str.encode('ascii', 'ignore').str.decode('ascii'))\n",
    "df['Review']=df['Review'].astype(str)"
   ]
  },
  {
   "cell_type": "code",
   "execution_count": 3,
   "metadata": {},
   "outputs": [],
   "source": [
    "import numpy as np\n",
    "(df['Review']=='').sum()\n",
    "test= df[df.Review != '']\n"
   ]
  },
  {
   "cell_type": "code",
   "execution_count": 4,
   "metadata": {},
   "outputs": [
    {
     "data": {
      "text/html": [
       "<div>\n",
       "<style scoped>\n",
       "    .dataframe tbody tr th:only-of-type {\n",
       "        vertical-align: middle;\n",
       "    }\n",
       "\n",
       "    .dataframe tbody tr th {\n",
       "        vertical-align: top;\n",
       "    }\n",
       "\n",
       "    .dataframe thead th {\n",
       "        text-align: right;\n",
       "    }\n",
       "</style>\n",
       "<table border=\"1\" class=\"dataframe\">\n",
       "  <thead>\n",
       "    <tr style=\"text-align: right;\">\n",
       "      <th></th>\n",
       "      <th>ASIN</th>\n",
       "      <th>ProfileName</th>\n",
       "      <th>Stars</th>\n",
       "      <th>StarsText</th>\n",
       "      <th>Title</th>\n",
       "      <th>ReviewDate</th>\n",
       "      <th>ReviewedAt</th>\n",
       "      <th>URL</th>\n",
       "      <th>Review</th>\n",
       "    </tr>\n",
       "  </thead>\n",
       "  <tbody>\n",
       "    <tr>\n",
       "      <th>0</th>\n",
       "      <td>B01CH3AZMU</td>\n",
       "      <td>Amazon Customer</td>\n",
       "      <td>5.0</td>\n",
       "      <td>5.0 out of 5 stars</td>\n",
       "      <td>Love it!!</td>\n",
       "      <td>March 30, 2019</td>\n",
       "      <td>the United States</td>\n",
       "      <td>https://www.amazon.com/product-reviews/B01CH3AZMU</td>\n",
       "      <td>Love it!!</td>\n",
       "    </tr>\n",
       "    <tr>\n",
       "      <th>1</th>\n",
       "      <td>B01CH3AUZW</td>\n",
       "      <td>Thea S.</td>\n",
       "      <td>5.0</td>\n",
       "      <td>5.0 out of 5 stars</td>\n",
       "      <td>Super Comfortable T-short Bra!</td>\n",
       "      <td>July 30, 2018</td>\n",
       "      <td>the United States</td>\n",
       "      <td>https://www.amazon.com/product-reviews/B01CH3AUZW</td>\n",
       "      <td>I was a former VS user but they never keep the...</td>\n",
       "    </tr>\n",
       "    <tr>\n",
       "      <th>2</th>\n",
       "      <td>B01CH3AUZW</td>\n",
       "      <td>Nish</td>\n",
       "      <td>5.0</td>\n",
       "      <td>5.0 out of 5 stars</td>\n",
       "      <td>Comfortable and fits to size if its the cotton...</td>\n",
       "      <td>June 4, 2020</td>\n",
       "      <td>the United States</td>\n",
       "      <td>https://www.amazon.com/product-reviews/B01CH3AUZW</td>\n",
       "      <td>I already had this style bra, I was so happy t...</td>\n",
       "    </tr>\n",
       "    <tr>\n",
       "      <th>3</th>\n",
       "      <td>B01CH3AUZW</td>\n",
       "      <td>Barbara S Anderson</td>\n",
       "      <td>5.0</td>\n",
       "      <td>5.0 out of 5 stars</td>\n",
       "      <td>Satisfaction</td>\n",
       "      <td>June 25, 2021</td>\n",
       "      <td>the United States</td>\n",
       "      <td>https://www.amazon.com/product-reviews/B01CH3AUZW</td>\n",
       "      <td>Have been wearing this for at least 5 years, i...</td>\n",
       "    </tr>\n",
       "    <tr>\n",
       "      <th>4</th>\n",
       "      <td>B01CH3AUZW</td>\n",
       "      <td>J Noel</td>\n",
       "      <td>5.0</td>\n",
       "      <td>5.0 out of 5 stars</td>\n",
       "      <td>My favorite bra</td>\n",
       "      <td>April 14, 2019</td>\n",
       "      <td>the United States</td>\n",
       "      <td>https://www.amazon.com/product-reviews/B01CH3AUZW</td>\n",
       "      <td>Best-fitting bra I have. This is my second one...</td>\n",
       "    </tr>\n",
       "    <tr>\n",
       "      <th>...</th>\n",
       "      <td>...</td>\n",
       "      <td>...</td>\n",
       "      <td>...</td>\n",
       "      <td>...</td>\n",
       "      <td>...</td>\n",
       "      <td>...</td>\n",
       "      <td>...</td>\n",
       "      <td>...</td>\n",
       "      <td>...</td>\n",
       "    </tr>\n",
       "    <tr>\n",
       "      <th>184302</th>\n",
       "      <td>B07NR2Z46H</td>\n",
       "      <td>Vicki L. Bohnhoff</td>\n",
       "      <td>3.0</td>\n",
       "      <td>3.0 out of 5 stars</td>\n",
       "      <td>The elastic around the leg is picky on my skin...</td>\n",
       "      <td>February 19, 2021</td>\n",
       "      <td>the United States</td>\n",
       "      <td>https://www.amazon.com/product-reviews/B07NR2Z46H</td>\n",
       "      <td>Thought I was ordering something similar to my...</td>\n",
       "    </tr>\n",
       "    <tr>\n",
       "      <th>184303</th>\n",
       "      <td>B07NR2Z46H</td>\n",
       "      <td>Kat</td>\n",
       "      <td>5.0</td>\n",
       "      <td>5.0 out of 5 stars</td>\n",
       "      <td>Great fit</td>\n",
       "      <td>September 3, 2020</td>\n",
       "      <td>the United States</td>\n",
       "      <td>https://www.amazon.com/product-reviews/B07NR2Z46H</td>\n",
       "      <td>Ordered up one size. This is my second time or...</td>\n",
       "    </tr>\n",
       "    <tr>\n",
       "      <th>184304</th>\n",
       "      <td>B07NR2Z46H</td>\n",
       "      <td>Hannah Cash</td>\n",
       "      <td>4.0</td>\n",
       "      <td>4.0 out of 5 stars</td>\n",
       "      <td>Getting the Right Panty for the Right Bum</td>\n",
       "      <td>June 4, 2021</td>\n",
       "      <td>the United States</td>\n",
       "      <td>https://www.amazon.com/product-reviews/B07NR2Z46H</td>\n",
       "      <td>This is a great panty brief. It has just enoug...</td>\n",
       "    </tr>\n",
       "    <tr>\n",
       "      <th>184305</th>\n",
       "      <td>B07NR2Z46H</td>\n",
       "      <td>Amazon Customer</td>\n",
       "      <td>5.0</td>\n",
       "      <td>5.0 out of 5 stars</td>\n",
       "      <td>Full coverage</td>\n",
       "      <td>February 21, 2021</td>\n",
       "      <td>the United States</td>\n",
       "      <td>https://www.amazon.com/product-reviews/B07NR2Z46H</td>\n",
       "      <td>I have tried one and it's really very comforta...</td>\n",
       "    </tr>\n",
       "    <tr>\n",
       "      <th>184306</th>\n",
       "      <td>B07NR2Z46H</td>\n",
       "      <td>Sams mom</td>\n",
       "      <td>5.0</td>\n",
       "      <td>5.0 out of 5 stars</td>\n",
       "      <td>Good value</td>\n",
       "      <td>October 28, 2019</td>\n",
       "      <td>the United States</td>\n",
       "      <td>https://www.amazon.com/product-reviews/B07NR2Z46H</td>\n",
       "      <td>Nice fabric\\r\\nGood value</td>\n",
       "    </tr>\n",
       "  </tbody>\n",
       "</table>\n",
       "<p>6804 rows × 9 columns</p>\n",
       "</div>"
      ],
      "text/plain": [
       "              ASIN         ProfileName Stars           StarsText  \\\n",
       "0       B01CH3AZMU     Amazon Customer   5.0  5.0 out of 5 stars   \n",
       "1       B01CH3AUZW             Thea S.   5.0  5.0 out of 5 stars   \n",
       "2       B01CH3AUZW                Nish   5.0  5.0 out of 5 stars   \n",
       "3       B01CH3AUZW  Barbara S Anderson   5.0  5.0 out of 5 stars   \n",
       "4       B01CH3AUZW              J Noel   5.0  5.0 out of 5 stars   \n",
       "...            ...                 ...   ...                 ...   \n",
       "184302  B07NR2Z46H   Vicki L. Bohnhoff   3.0  3.0 out of 5 stars   \n",
       "184303  B07NR2Z46H                 Kat   5.0  5.0 out of 5 stars   \n",
       "184304  B07NR2Z46H         Hannah Cash   4.0  4.0 out of 5 stars   \n",
       "184305  B07NR2Z46H     Amazon Customer   5.0  5.0 out of 5 stars   \n",
       "184306  B07NR2Z46H            Sams mom   5.0  5.0 out of 5 stars   \n",
       "\n",
       "                                                    Title         ReviewDate  \\\n",
       "0                                               Love it!!     March 30, 2019   \n",
       "1                          Super Comfortable T-short Bra!      July 30, 2018   \n",
       "2       Comfortable and fits to size if its the cotton...       June 4, 2020   \n",
       "3                                            Satisfaction      June 25, 2021   \n",
       "4                                         My favorite bra     April 14, 2019   \n",
       "...                                                   ...                ...   \n",
       "184302  The elastic around the leg is picky on my skin...  February 19, 2021   \n",
       "184303                                          Great fit  September 3, 2020   \n",
       "184304          Getting the Right Panty for the Right Bum       June 4, 2021   \n",
       "184305                                      Full coverage  February 21, 2021   \n",
       "184306                                         Good value   October 28, 2019   \n",
       "\n",
       "               ReviewedAt                                                URL  \\\n",
       "0       the United States  https://www.amazon.com/product-reviews/B01CH3AZMU   \n",
       "1       the United States  https://www.amazon.com/product-reviews/B01CH3AUZW   \n",
       "2       the United States  https://www.amazon.com/product-reviews/B01CH3AUZW   \n",
       "3       the United States  https://www.amazon.com/product-reviews/B01CH3AUZW   \n",
       "4       the United States  https://www.amazon.com/product-reviews/B01CH3AUZW   \n",
       "...                   ...                                                ...   \n",
       "184302  the United States  https://www.amazon.com/product-reviews/B07NR2Z46H   \n",
       "184303  the United States  https://www.amazon.com/product-reviews/B07NR2Z46H   \n",
       "184304  the United States  https://www.amazon.com/product-reviews/B07NR2Z46H   \n",
       "184305  the United States  https://www.amazon.com/product-reviews/B07NR2Z46H   \n",
       "184306  the United States  https://www.amazon.com/product-reviews/B07NR2Z46H   \n",
       "\n",
       "                                                   Review  \n",
       "0                                               Love it!!  \n",
       "1       I was a former VS user but they never keep the...  \n",
       "2       I already had this style bra, I was so happy t...  \n",
       "3       Have been wearing this for at least 5 years, i...  \n",
       "4       Best-fitting bra I have. This is my second one...  \n",
       "...                                                   ...  \n",
       "184302  Thought I was ordering something similar to my...  \n",
       "184303  Ordered up one size. This is my second time or...  \n",
       "184304  This is a great panty brief. It has just enoug...  \n",
       "184305  I have tried one and it's really very comforta...  \n",
       "184306                          Nice fabric\\r\\nGood value  \n",
       "\n",
       "[6804 rows x 9 columns]"
      ]
     },
     "execution_count": 4,
     "metadata": {},
     "output_type": "execute_result"
    }
   ],
   "source": [
    "df"
   ]
  },
  {
   "cell_type": "code",
   "execution_count": 172,
   "metadata": {},
   "outputs": [],
   "source": [
    "df=df[df['Review'].str.contains('|'.join(searchfor))]"
   ]
  },
  {
   "cell_type": "code",
   "execution_count": 17,
   "metadata": {},
   "outputs": [
    {
     "name": "stderr",
     "output_type": "stream",
     "text": [
      "C:\\Users\\sa-datascience\\azuredatastudio-python\\Scripts\\VF_reviews\\bin\\env\\lib\\site-packages\\pandas\\io\\sql.py:761: UserWarning: pandas only support SQLAlchemy connectable(engine/connection) ordatabase string URI or sqlite3 DBAPI2 connectionother DBAPI2 objects are not tested, please consider using SQLAlchemy\n",
      "  warnings.warn(\n"
     ]
    }
   ],
   "source": [
    "import pyodbc\n",
    "aoconnection=pyodbc.connect('DRIVER={SQL Server Native Client 11.0};SERVER=fotlsqlsrv01.database.windows.net;DATABASE=AOData;UID=bauser;PWD=3ugaspuW')\n",
    "\n",
    "cursor=aoconnection.cursor()\n",
    "cursor.execute('Select top 20 * from pkms.oracle_data_ref')\n",
    "rows=cursor.fetchall()\n",
    "\n",
    "upc_df= pd.read_sql(\"Select * from pkms.oracle_data_ref\",aoconnection)\n",
    "upc_df2=upc_df[['ITEM_NUM_NO_REV','UPC','ITEM_STYLE_NUM']]\n"
   ]
  },
  {
   "cell_type": "code",
   "execution_count": null,
   "metadata": {},
   "outputs": [],
   "source": [
    "#upc_df2['ITEM_NO_NUM_REV'] = upc_df2['ITEM_NO_NUM_REV'].str.replace(r'.0$', '')"
   ]
  },
  {
   "cell_type": "code",
   "execution_count": 18,
   "metadata": {},
   "outputs": [],
   "source": [
    "asins_needed=pd.read_excel(\"ASINlist copy.xlsx\")\n",
    "asins_needed=asins_needed[['ASIN','UPC','Inventory Item Num']]"
   ]
  },
  {
   "cell_type": "code",
   "execution_count": 19,
   "metadata": {},
   "outputs": [
    {
     "name": "stderr",
     "output_type": "stream",
     "text": [
      "C:\\Users\\fbate1\\AppData\\Local\\Temp\\4\\ipykernel_8260\\1879451643.py:1: FutureWarning: The default value of regex will change from True to False in a future version.\n",
      "  asins_needed['Inventory Item Num'] = asins_needed['Inventory Item Num'].str.replace(r'.0$', '')\n"
     ]
    }
   ],
   "source": [
    "asins_needed['Inventory Item Num'] = asins_needed['Inventory Item Num'].str.replace(r'.0$', '')"
   ]
  },
  {
   "cell_type": "code",
   "execution_count": 20,
   "metadata": {},
   "outputs": [],
   "source": [
    "asins_needed=asins_needed.rename(columns={'Inventory Item Num':'ITEM_NUM_NO_REV'})\n",
    "asins_needed=asins_needed.merge(upc_df2, on='ITEM_NUM_NO_REV',how='left')\n",
    "asins_needed=asins_needed.drop(['UPC_y'],axis=1)\n"
   ]
  },
  {
   "cell_type": "code",
   "execution_count": 22,
   "metadata": {},
   "outputs": [],
   "source": [
    "asins_needed=asins_needed.rename(columns={'UPC_x':'item.product-id'})\n",
    "final=df.merge(asins_needed, on='ASIN',how='left')"
   ]
  },
  {
   "cell_type": "code",
   "execution_count": 25,
   "metadata": {},
   "outputs": [],
   "source": [
    "asins_needed.to_csv('asintoStyle.csv')"
   ]
  },
  {
   "cell_type": "code",
   "execution_count": null,
   "metadata": {},
   "outputs": [],
   "source": [
    "asins_needed['']"
   ]
  },
  {
   "cell_type": "code",
   "execution_count": 24,
   "metadata": {},
   "outputs": [],
   "source": [
    "final.to_excel('unfiltered_reviews.xlsx')"
   ]
  },
  {
   "cell_type": "code",
   "execution_count": 173,
   "metadata": {},
   "outputs": [],
   "source": [
    "df['filtrev']=df['Review'].str.lower()"
   ]
  },
  {
   "cell_type": "code",
   "execution_count": 174,
   "metadata": {},
   "outputs": [],
   "source": [
    "from nltk.corpus import stopwords\n",
    "from textblob import TextBlob\n",
    "from textblob import Word\n",
    "\n",
    "df['filtrev']=df['filtrev'].apply(lambda x: \" \".join(x.lower() for x in x.split()))"
   ]
  },
  {
   "cell_type": "code",
   "execution_count": 175,
   "metadata": {},
   "outputs": [],
   "source": [
    "df['filtrev']=df['filtrev'].str.replace('[^\\w\\s]',\"\")"
   ]
  },
  {
   "cell_type": "code",
   "execution_count": 176,
   "metadata": {},
   "outputs": [],
   "source": [
    "stop=stopwords.words('english')\n",
    "df['filtrev']=df['filtrev'].apply(lambda x: \" \".join(x for x in x.split() if x not in stop))"
   ]
  },
  {
   "cell_type": "code",
   "execution_count": 177,
   "metadata": {},
   "outputs": [
    {
     "name": "stderr",
     "output_type": "stream",
     "text": [
      "[nltk_data] Downloading package omw-1.4 to\n",
      "[nltk_data]     C:\\Users\\fbate1\\AppData\\Roaming\\nltk_data...\n",
      "[nltk_data]   Package omw-1.4 is already up-to-date!\n"
     ]
    },
    {
     "data": {
      "text/plain": [
       "True"
      ]
     },
     "execution_count": 177,
     "metadata": {},
     "output_type": "execute_result"
    }
   ],
   "source": [
    "import nltk\n",
    "nltk.download('omw-1.4')"
   ]
  },
  {
   "cell_type": "code",
   "execution_count": 178,
   "metadata": {},
   "outputs": [],
   "source": [
    "df['filtrev'] = df['filtrev'].apply(lambda x: \" \".join([Word(word).lemmatize() for word in x.split()]))"
   ]
  },
  {
   "cell_type": "code",
   "execution_count": 102,
   "metadata": {},
   "outputs": [],
   "source": [
    "from wordcloud import WordCloud\n",
    "from wordcloud import STOPWORDS"
   ]
  },
  {
   "cell_type": "code",
   "execution_count": 103,
   "metadata": {},
   "outputs": [],
   "source": [
    "#df.Stars.value_counts()"
   ]
  },
  {
   "cell_type": "code",
   "execution_count": 104,
   "metadata": {},
   "outputs": [],
   "source": [
    "import seaborn as sns"
   ]
  },
  {
   "cell_type": "code",
   "execution_count": 105,
   "metadata": {},
   "outputs": [],
   "source": [
    "#sns.countplot(data=df,x='Stars')"
   ]
  },
  {
   "cell_type": "code",
   "execution_count": 179,
   "metadata": {},
   "outputs": [],
   "source": [
    "reviews1=df\n",
    "reviews1.dropna(inplace=True)"
   ]
  },
  {
   "cell_type": "code",
   "execution_count": 183,
   "metadata": {},
   "outputs": [],
   "source": [
    "reviews1.to_csv('filtered_data1.csv')"
   ]
  },
  {
   "cell_type": "code",
   "execution_count": 167,
   "metadata": {},
   "outputs": [
    {
     "ename": "KeyError",
     "evalue": "'filteredrev'",
     "output_type": "error",
     "traceback": [
      "\u001b[1;31m---------------------------------------------------------------------------\u001b[0m",
      "\u001b[1;31mKeyError\u001b[0m                                  Traceback (most recent call last)",
      "File \u001b[1;32mC:\\Users\\sa-datascience\\azuredatastudio-python\\Scripts\\VF_reviews\\bin\\env\\lib\\site-packages\\pandas\\core\\indexes\\base.py:3621\u001b[0m, in \u001b[0;36mIndex.get_loc\u001b[1;34m(self, key, method, tolerance)\u001b[0m\n\u001b[0;32m   <a href='file:///c%3A/Users/sa-datascience/azuredatastudio-python/Scripts/VF_reviews/bin/env/lib/site-packages/pandas/core/indexes/base.py?line=3619'>3620</a>\u001b[0m \u001b[39mtry\u001b[39;00m:\n\u001b[1;32m-> <a href='file:///c%3A/Users/sa-datascience/azuredatastudio-python/Scripts/VF_reviews/bin/env/lib/site-packages/pandas/core/indexes/base.py?line=3620'>3621</a>\u001b[0m     \u001b[39mreturn\u001b[39;00m \u001b[39mself\u001b[39;49m\u001b[39m.\u001b[39;49m_engine\u001b[39m.\u001b[39;49mget_loc(casted_key)\n\u001b[0;32m   <a href='file:///c%3A/Users/sa-datascience/azuredatastudio-python/Scripts/VF_reviews/bin/env/lib/site-packages/pandas/core/indexes/base.py?line=3621'>3622</a>\u001b[0m \u001b[39mexcept\u001b[39;00m \u001b[39mKeyError\u001b[39;00m \u001b[39mas\u001b[39;00m err:\n",
      "File \u001b[1;32mC:\\Users\\sa-datascience\\azuredatastudio-python\\Scripts\\VF_reviews\\bin\\env\\lib\\site-packages\\pandas\\_libs\\index.pyx:136\u001b[0m, in \u001b[0;36mpandas._libs.index.IndexEngine.get_loc\u001b[1;34m()\u001b[0m\n",
      "File \u001b[1;32mC:\\Users\\sa-datascience\\azuredatastudio-python\\Scripts\\VF_reviews\\bin\\env\\lib\\site-packages\\pandas\\_libs\\index.pyx:163\u001b[0m, in \u001b[0;36mpandas._libs.index.IndexEngine.get_loc\u001b[1;34m()\u001b[0m\n",
      "File \u001b[1;32mpandas\\_libs\\hashtable_class_helper.pxi:5198\u001b[0m, in \u001b[0;36mpandas._libs.hashtable.PyObjectHashTable.get_item\u001b[1;34m()\u001b[0m\n",
      "File \u001b[1;32mpandas\\_libs\\hashtable_class_helper.pxi:5206\u001b[0m, in \u001b[0;36mpandas._libs.hashtable.PyObjectHashTable.get_item\u001b[1;34m()\u001b[0m\n",
      "\u001b[1;31mKeyError\u001b[0m: 'filteredrev'",
      "\nThe above exception was the direct cause of the following exception:\n",
      "\u001b[1;31mKeyError\u001b[0m                                  Traceback (most recent call last)",
      "\u001b[1;32mc:\\Users\\sa-datascience\\azuredatastudio-python\\Scripts\\VF_reviews\\amz_scraper-main\\amz_scraper-main\\results.ipynb Cell 21'\u001b[0m in \u001b[0;36m<cell line: 1>\u001b[1;34m()\u001b[0m\n\u001b[1;32m----> <a href='vscode-notebook-cell:/c%3A/Users/sa-datascience/azuredatastudio-python/Scripts/VF_reviews/amz_scraper-main/amz_scraper-main/results.ipynb#ch0000038?line=0'>1</a>\u001b[0m reviews1[\u001b[39m'\u001b[39;49m\u001b[39mfilteredrev\u001b[39;49m\u001b[39m'\u001b[39;49m]\n",
      "File \u001b[1;32mC:\\Users\\sa-datascience\\azuredatastudio-python\\Scripts\\VF_reviews\\bin\\env\\lib\\site-packages\\pandas\\core\\frame.py:3505\u001b[0m, in \u001b[0;36mDataFrame.__getitem__\u001b[1;34m(self, key)\u001b[0m\n\u001b[0;32m   <a href='file:///c%3A/Users/sa-datascience/azuredatastudio-python/Scripts/VF_reviews/bin/env/lib/site-packages/pandas/core/frame.py?line=3502'>3503</a>\u001b[0m \u001b[39mif\u001b[39;00m \u001b[39mself\u001b[39m\u001b[39m.\u001b[39mcolumns\u001b[39m.\u001b[39mnlevels \u001b[39m>\u001b[39m \u001b[39m1\u001b[39m:\n\u001b[0;32m   <a href='file:///c%3A/Users/sa-datascience/azuredatastudio-python/Scripts/VF_reviews/bin/env/lib/site-packages/pandas/core/frame.py?line=3503'>3504</a>\u001b[0m     \u001b[39mreturn\u001b[39;00m \u001b[39mself\u001b[39m\u001b[39m.\u001b[39m_getitem_multilevel(key)\n\u001b[1;32m-> <a href='file:///c%3A/Users/sa-datascience/azuredatastudio-python/Scripts/VF_reviews/bin/env/lib/site-packages/pandas/core/frame.py?line=3504'>3505</a>\u001b[0m indexer \u001b[39m=\u001b[39m \u001b[39mself\u001b[39;49m\u001b[39m.\u001b[39;49mcolumns\u001b[39m.\u001b[39;49mget_loc(key)\n\u001b[0;32m   <a href='file:///c%3A/Users/sa-datascience/azuredatastudio-python/Scripts/VF_reviews/bin/env/lib/site-packages/pandas/core/frame.py?line=3505'>3506</a>\u001b[0m \u001b[39mif\u001b[39;00m is_integer(indexer):\n\u001b[0;32m   <a href='file:///c%3A/Users/sa-datascience/azuredatastudio-python/Scripts/VF_reviews/bin/env/lib/site-packages/pandas/core/frame.py?line=3506'>3507</a>\u001b[0m     indexer \u001b[39m=\u001b[39m [indexer]\n",
      "File \u001b[1;32mC:\\Users\\sa-datascience\\azuredatastudio-python\\Scripts\\VF_reviews\\bin\\env\\lib\\site-packages\\pandas\\core\\indexes\\base.py:3623\u001b[0m, in \u001b[0;36mIndex.get_loc\u001b[1;34m(self, key, method, tolerance)\u001b[0m\n\u001b[0;32m   <a href='file:///c%3A/Users/sa-datascience/azuredatastudio-python/Scripts/VF_reviews/bin/env/lib/site-packages/pandas/core/indexes/base.py?line=3620'>3621</a>\u001b[0m     \u001b[39mreturn\u001b[39;00m \u001b[39mself\u001b[39m\u001b[39m.\u001b[39m_engine\u001b[39m.\u001b[39mget_loc(casted_key)\n\u001b[0;32m   <a href='file:///c%3A/Users/sa-datascience/azuredatastudio-python/Scripts/VF_reviews/bin/env/lib/site-packages/pandas/core/indexes/base.py?line=3621'>3622</a>\u001b[0m \u001b[39mexcept\u001b[39;00m \u001b[39mKeyError\u001b[39;00m \u001b[39mas\u001b[39;00m err:\n\u001b[1;32m-> <a href='file:///c%3A/Users/sa-datascience/azuredatastudio-python/Scripts/VF_reviews/bin/env/lib/site-packages/pandas/core/indexes/base.py?line=3622'>3623</a>\u001b[0m     \u001b[39mraise\u001b[39;00m \u001b[39mKeyError\u001b[39;00m(key) \u001b[39mfrom\u001b[39;00m \u001b[39merr\u001b[39;00m\n\u001b[0;32m   <a href='file:///c%3A/Users/sa-datascience/azuredatastudio-python/Scripts/VF_reviews/bin/env/lib/site-packages/pandas/core/indexes/base.py?line=3623'>3624</a>\u001b[0m \u001b[39mexcept\u001b[39;00m \u001b[39mTypeError\u001b[39;00m:\n\u001b[0;32m   <a href='file:///c%3A/Users/sa-datascience/azuredatastudio-python/Scripts/VF_reviews/bin/env/lib/site-packages/pandas/core/indexes/base.py?line=3624'>3625</a>\u001b[0m     \u001b[39m# If we have a listlike key, _check_indexing_error will raise\u001b[39;00m\n\u001b[0;32m   <a href='file:///c%3A/Users/sa-datascience/azuredatastudio-python/Scripts/VF_reviews/bin/env/lib/site-packages/pandas/core/indexes/base.py?line=3625'>3626</a>\u001b[0m     \u001b[39m#  InvalidIndexError. Otherwise we fall through and re-raise\u001b[39;00m\n\u001b[0;32m   <a href='file:///c%3A/Users/sa-datascience/azuredatastudio-python/Scripts/VF_reviews/bin/env/lib/site-packages/pandas/core/indexes/base.py?line=3626'>3627</a>\u001b[0m     \u001b[39m#  the TypeError.\u001b[39;00m\n\u001b[0;32m   <a href='file:///c%3A/Users/sa-datascience/azuredatastudio-python/Scripts/VF_reviews/bin/env/lib/site-packages/pandas/core/indexes/base.py?line=3627'>3628</a>\u001b[0m     \u001b[39mself\u001b[39m\u001b[39m.\u001b[39m_check_indexing_error(key)\n",
      "\u001b[1;31mKeyError\u001b[0m: 'filteredrev'"
     ]
    }
   ],
   "source": [
    "reviews1['filteredrev']"
   ]
  },
  {
   "cell_type": "code",
   "execution_count": 180,
   "metadata": {},
   "outputs": [],
   "source": [
    "score_1= reviews1[reviews1['Stars']=='1.0']\n",
    "score_2=reviews1[reviews1['Stars']=='2.0']\n",
    "score_3=reviews1[reviews1['Stars']=='3.0']\n",
    "score_4=reviews1[reviews1['Stars']=='4.0']\n",
    "score_5=reviews1[reviews1['Stars']=='5.0']"
   ]
  },
  {
   "cell_type": "code",
   "execution_count": 181,
   "metadata": {},
   "outputs": [],
   "source": [
    "reviews_sample=pd.concat([score_1,score_2,score_3,score_4,score_5],axis=0)\n",
    "reviews_sample.reset_index(drop=True,inplace=True)"
   ]
  },
  {
   "cell_type": "code",
   "execution_count": 109,
   "metadata": {},
   "outputs": [],
   "source": [
    "import matplotlib.pyplot as plt"
   ]
  },
  {
   "cell_type": "code",
   "execution_count": null,
   "metadata": {},
   "outputs": [],
   "source": [
    "reviews"
   ]
  },
  {
   "cell_type": "code",
   "execution_count": 182,
   "metadata": {},
   "outputs": [
    {
     "ename": "AttributeError",
     "evalue": "Can only use .cat accessor with a 'category' dtype",
     "output_type": "error",
     "traceback": [
      "\u001b[1;31m---------------------------------------------------------------------------\u001b[0m",
      "\u001b[1;31mAttributeError\u001b[0m                            Traceback (most recent call last)",
      "\u001b[1;32mc:\\Users\\sa-datascience\\azuredatastudio-python\\Scripts\\VF_reviews\\amz_scraper-main\\amz_scraper-main\\results.ipynb Cell 25'\u001b[0m in \u001b[0;36m<cell line: 1>\u001b[1;34m()\u001b[0m\n\u001b[1;32m----> <a href='vscode-notebook-cell:/c%3A/Users/sa-datascience/azuredatastudio-python/Scripts/VF_reviews/amz_scraper-main/amz_scraper-main/results.ipynb#ch0000029?line=0'>1</a>\u001b[0m reviews_str\u001b[39m=\u001b[39mreviews_sample\u001b[39m.\u001b[39;49mfiltrev\u001b[39m.\u001b[39;49mcat()\n",
      "File \u001b[1;32mC:\\Users\\sa-datascience\\azuredatastudio-python\\Scripts\\VF_reviews\\bin\\env\\lib\\site-packages\\pandas\\core\\generic.py:5583\u001b[0m, in \u001b[0;36mNDFrame.__getattr__\u001b[1;34m(self, name)\u001b[0m\n\u001b[0;32m   <a href='file:///c%3A/Users/sa-datascience/azuredatastudio-python/Scripts/VF_reviews/bin/env/lib/site-packages/pandas/core/generic.py?line=5575'>5576</a>\u001b[0m \u001b[39mif\u001b[39;00m (\n\u001b[0;32m   <a href='file:///c%3A/Users/sa-datascience/azuredatastudio-python/Scripts/VF_reviews/bin/env/lib/site-packages/pandas/core/generic.py?line=5576'>5577</a>\u001b[0m     name \u001b[39mnot\u001b[39;00m \u001b[39min\u001b[39;00m \u001b[39mself\u001b[39m\u001b[39m.\u001b[39m_internal_names_set\n\u001b[0;32m   <a href='file:///c%3A/Users/sa-datascience/azuredatastudio-python/Scripts/VF_reviews/bin/env/lib/site-packages/pandas/core/generic.py?line=5577'>5578</a>\u001b[0m     \u001b[39mand\u001b[39;00m name \u001b[39mnot\u001b[39;00m \u001b[39min\u001b[39;00m \u001b[39mself\u001b[39m\u001b[39m.\u001b[39m_metadata\n\u001b[0;32m   <a href='file:///c%3A/Users/sa-datascience/azuredatastudio-python/Scripts/VF_reviews/bin/env/lib/site-packages/pandas/core/generic.py?line=5578'>5579</a>\u001b[0m     \u001b[39mand\u001b[39;00m name \u001b[39mnot\u001b[39;00m \u001b[39min\u001b[39;00m \u001b[39mself\u001b[39m\u001b[39m.\u001b[39m_accessors\n\u001b[0;32m   <a href='file:///c%3A/Users/sa-datascience/azuredatastudio-python/Scripts/VF_reviews/bin/env/lib/site-packages/pandas/core/generic.py?line=5579'>5580</a>\u001b[0m     \u001b[39mand\u001b[39;00m \u001b[39mself\u001b[39m\u001b[39m.\u001b[39m_info_axis\u001b[39m.\u001b[39m_can_hold_identifiers_and_holds_name(name)\n\u001b[0;32m   <a href='file:///c%3A/Users/sa-datascience/azuredatastudio-python/Scripts/VF_reviews/bin/env/lib/site-packages/pandas/core/generic.py?line=5580'>5581</a>\u001b[0m ):\n\u001b[0;32m   <a href='file:///c%3A/Users/sa-datascience/azuredatastudio-python/Scripts/VF_reviews/bin/env/lib/site-packages/pandas/core/generic.py?line=5581'>5582</a>\u001b[0m     \u001b[39mreturn\u001b[39;00m \u001b[39mself\u001b[39m[name]\n\u001b[1;32m-> <a href='file:///c%3A/Users/sa-datascience/azuredatastudio-python/Scripts/VF_reviews/bin/env/lib/site-packages/pandas/core/generic.py?line=5582'>5583</a>\u001b[0m \u001b[39mreturn\u001b[39;00m \u001b[39mobject\u001b[39;49m\u001b[39m.\u001b[39;49m\u001b[39m__getattribute__\u001b[39;49m(\u001b[39mself\u001b[39;49m, name)\n",
      "File \u001b[1;32mC:\\Users\\sa-datascience\\azuredatastudio-python\\Scripts\\VF_reviews\\bin\\env\\lib\\site-packages\\pandas\\core\\accessor.py:182\u001b[0m, in \u001b[0;36mCachedAccessor.__get__\u001b[1;34m(self, obj, cls)\u001b[0m\n\u001b[0;32m    <a href='file:///c%3A/Users/sa-datascience/azuredatastudio-python/Scripts/VF_reviews/bin/env/lib/site-packages/pandas/core/accessor.py?line=178'>179</a>\u001b[0m \u001b[39mif\u001b[39;00m obj \u001b[39mis\u001b[39;00m \u001b[39mNone\u001b[39;00m:\n\u001b[0;32m    <a href='file:///c%3A/Users/sa-datascience/azuredatastudio-python/Scripts/VF_reviews/bin/env/lib/site-packages/pandas/core/accessor.py?line=179'>180</a>\u001b[0m     \u001b[39m# we're accessing the attribute of the class, i.e., Dataset.geo\u001b[39;00m\n\u001b[0;32m    <a href='file:///c%3A/Users/sa-datascience/azuredatastudio-python/Scripts/VF_reviews/bin/env/lib/site-packages/pandas/core/accessor.py?line=180'>181</a>\u001b[0m     \u001b[39mreturn\u001b[39;00m \u001b[39mself\u001b[39m\u001b[39m.\u001b[39m_accessor\n\u001b[1;32m--> <a href='file:///c%3A/Users/sa-datascience/azuredatastudio-python/Scripts/VF_reviews/bin/env/lib/site-packages/pandas/core/accessor.py?line=181'>182</a>\u001b[0m accessor_obj \u001b[39m=\u001b[39m \u001b[39mself\u001b[39;49m\u001b[39m.\u001b[39;49m_accessor(obj)\n\u001b[0;32m    <a href='file:///c%3A/Users/sa-datascience/azuredatastudio-python/Scripts/VF_reviews/bin/env/lib/site-packages/pandas/core/accessor.py?line=182'>183</a>\u001b[0m \u001b[39m# Replace the property with the accessor object. Inspired by:\u001b[39;00m\n\u001b[0;32m    <a href='file:///c%3A/Users/sa-datascience/azuredatastudio-python/Scripts/VF_reviews/bin/env/lib/site-packages/pandas/core/accessor.py?line=183'>184</a>\u001b[0m \u001b[39m# https://www.pydanny.com/cached-property.html\u001b[39;00m\n\u001b[0;32m    <a href='file:///c%3A/Users/sa-datascience/azuredatastudio-python/Scripts/VF_reviews/bin/env/lib/site-packages/pandas/core/accessor.py?line=184'>185</a>\u001b[0m \u001b[39m# We need to use object.__setattr__ because we overwrite __setattr__ on\u001b[39;00m\n\u001b[0;32m    <a href='file:///c%3A/Users/sa-datascience/azuredatastudio-python/Scripts/VF_reviews/bin/env/lib/site-packages/pandas/core/accessor.py?line=185'>186</a>\u001b[0m \u001b[39m# NDFrame\u001b[39;00m\n\u001b[0;32m    <a href='file:///c%3A/Users/sa-datascience/azuredatastudio-python/Scripts/VF_reviews/bin/env/lib/site-packages/pandas/core/accessor.py?line=186'>187</a>\u001b[0m \u001b[39mobject\u001b[39m\u001b[39m.\u001b[39m\u001b[39m__setattr__\u001b[39m(obj, \u001b[39mself\u001b[39m\u001b[39m.\u001b[39m_name, accessor_obj)\n",
      "File \u001b[1;32mC:\\Users\\sa-datascience\\azuredatastudio-python\\Scripts\\VF_reviews\\bin\\env\\lib\\site-packages\\pandas\\core\\arrays\\categorical.py:2717\u001b[0m, in \u001b[0;36mCategoricalAccessor.__init__\u001b[1;34m(self, data)\u001b[0m\n\u001b[0;32m   <a href='file:///c%3A/Users/sa-datascience/azuredatastudio-python/Scripts/VF_reviews/bin/env/lib/site-packages/pandas/core/arrays/categorical.py?line=2715'>2716</a>\u001b[0m \u001b[39mdef\u001b[39;00m \u001b[39m__init__\u001b[39m(\u001b[39mself\u001b[39m, data):\n\u001b[1;32m-> <a href='file:///c%3A/Users/sa-datascience/azuredatastudio-python/Scripts/VF_reviews/bin/env/lib/site-packages/pandas/core/arrays/categorical.py?line=2716'>2717</a>\u001b[0m     \u001b[39mself\u001b[39;49m\u001b[39m.\u001b[39;49m_validate(data)\n\u001b[0;32m   <a href='file:///c%3A/Users/sa-datascience/azuredatastudio-python/Scripts/VF_reviews/bin/env/lib/site-packages/pandas/core/arrays/categorical.py?line=2717'>2718</a>\u001b[0m     \u001b[39mself\u001b[39m\u001b[39m.\u001b[39m_parent \u001b[39m=\u001b[39m data\u001b[39m.\u001b[39mvalues\n\u001b[0;32m   <a href='file:///c%3A/Users/sa-datascience/azuredatastudio-python/Scripts/VF_reviews/bin/env/lib/site-packages/pandas/core/arrays/categorical.py?line=2718'>2719</a>\u001b[0m     \u001b[39mself\u001b[39m\u001b[39m.\u001b[39m_index \u001b[39m=\u001b[39m data\u001b[39m.\u001b[39mindex\n",
      "File \u001b[1;32mC:\\Users\\sa-datascience\\azuredatastudio-python\\Scripts\\VF_reviews\\bin\\env\\lib\\site-packages\\pandas\\core\\arrays\\categorical.py:2726\u001b[0m, in \u001b[0;36mCategoricalAccessor._validate\u001b[1;34m(data)\u001b[0m\n\u001b[0;32m   <a href='file:///c%3A/Users/sa-datascience/azuredatastudio-python/Scripts/VF_reviews/bin/env/lib/site-packages/pandas/core/arrays/categorical.py?line=2722'>2723</a>\u001b[0m \u001b[39m@staticmethod\u001b[39m\n\u001b[0;32m   <a href='file:///c%3A/Users/sa-datascience/azuredatastudio-python/Scripts/VF_reviews/bin/env/lib/site-packages/pandas/core/arrays/categorical.py?line=2723'>2724</a>\u001b[0m \u001b[39mdef\u001b[39;00m \u001b[39m_validate\u001b[39m(data):\n\u001b[0;32m   <a href='file:///c%3A/Users/sa-datascience/azuredatastudio-python/Scripts/VF_reviews/bin/env/lib/site-packages/pandas/core/arrays/categorical.py?line=2724'>2725</a>\u001b[0m     \u001b[39mif\u001b[39;00m \u001b[39mnot\u001b[39;00m is_categorical_dtype(data\u001b[39m.\u001b[39mdtype):\n\u001b[1;32m-> <a href='file:///c%3A/Users/sa-datascience/azuredatastudio-python/Scripts/VF_reviews/bin/env/lib/site-packages/pandas/core/arrays/categorical.py?line=2725'>2726</a>\u001b[0m         \u001b[39mraise\u001b[39;00m \u001b[39mAttributeError\u001b[39;00m(\u001b[39m\"\u001b[39m\u001b[39mCan only use .cat accessor with a \u001b[39m\u001b[39m'\u001b[39m\u001b[39mcategory\u001b[39m\u001b[39m'\u001b[39m\u001b[39m dtype\u001b[39m\u001b[39m\"\u001b[39m)\n",
      "\u001b[1;31mAttributeError\u001b[0m: Can only use .cat accessor with a 'category' dtype"
     ]
    }
   ],
   "source": [
    "reviews_str=reviews_sample.filtrev.cat()\n",
    "#wordcloud=WordCloud(background_color='white').generate(reviews_str)\n",
    "#plt.figure(figsize=(50,50))\n",
    "#lt.imshow(wordcloud,interpolation='bilinear')\n",
    "#plt.axis(\"off\")\n",
    "#lt.show()"
   ]
  },
  {
   "cell_type": "code",
   "execution_count": 113,
   "metadata": {},
   "outputs": [],
   "source": [
    "reviews_sample.to_csv('wordcloud_text.csv')"
   ]
  }
 ],
 "metadata": {
  "interpreter": {
   "hash": "266f69fc76cfd4df2702940d32ba7e9a8e72f74d25d5d6dd2cda9a1690e2d217"
  },
  "kernelspec": {
   "display_name": "reviewsbin",
   "language": "python",
   "name": "python3"
  },
  "language_info": {
   "codemirror_mode": {
    "name": "ipython",
    "version": 3
   },
   "file_extension": ".py",
   "mimetype": "text/x-python",
   "name": "python",
   "nbconvert_exporter": "python",
   "pygments_lexer": "ipython3",
   "version": "3.10.1"
  },
  "orig_nbformat": 4
 },
 "nbformat": 4,
 "nbformat_minor": 2
}
