{
 "cells": [
  {
   "cell_type": "code",
   "execution_count": 11,
   "metadata": {},
   "outputs": [],
   "source": [
    "import pandas as pd\n",
    "import numpy as np\n",
    "asins_needed=pd.read_excel(\"ASINlist.xlsx\")"
   ]
  },
  {
   "cell_type": "code",
   "execution_count": 18,
   "metadata": {},
   "outputs": [],
   "source": [
    "asins=asins_needed['ASIN']\n",
    "asins.to_csv('asinsneeded.csv',index=False,line_terminator=',\\n')"
   ]
  }
 ],
 "metadata": {
  "interpreter": {
   "hash": "fad4f6f1df07c26c11a50581bfd0abc78933b747678534583254601b06c3635a"
  },
  "kernelspec": {
   "display_name": "Python 3.9.6 ('reviewsbin': venv)",
   "language": "python",
   "name": "python3"
  },
  "language_info": {
   "codemirror_mode": {
    "name": "ipython",
    "version": 3
   },
   "file_extension": ".py",
   "mimetype": "text/x-python",
   "name": "python",
   "nbconvert_exporter": "python",
   "pygments_lexer": "ipython3",
   "version": "3.9.6"
  },
  "orig_nbformat": 4
 },
 "nbformat": 4,
 "nbformat_minor": 2
}
